{
 "cells": [
  {
   "attachments": {},
   "cell_type": "markdown",
   "metadata": {},
   "source": [
    "# Image Transforms Tutorial"
   ]
  },
  {
   "cell_type": "code",
   "execution_count": null,
   "metadata": {},
   "outputs": [],
   "source": [
    "import numpy as np\n",
    "import matplotlib.pyplot as plt\n",
    "import cv2"
   ]
  },
  {
   "cell_type": "code",
   "execution_count": null,
   "metadata": {},
   "outputs": [],
   "source": [
    "!wget http://images.cocodataset.org/val2017/000000439715.jpg -q -O tutorial_image.jpg"
   ]
  },
  {
   "cell_type": "code",
   "execution_count": null,
   "metadata": {},
   "outputs": [],
   "source": [
    "image_bgr = cv2.imread(\"./tutorial_image.jpg\")\n",
    "image = cv2.cvtColor(image_bgr, cv2.COLOR_BGR2RGB)\n",
    "print(image.shape)\n",
    "plt.title(\"Original Image\")\n",
    "plt.imshow(image);"
   ]
  },
  {
   "attachments": {},
   "cell_type": "markdown",
   "metadata": {},
   "source": [
    "## Crop\n",
    "\n",
    ":information_source: All transforms leave the original image unmodified."
   ]
  },
  {
   "cell_type": "code",
   "execution_count": null,
   "metadata": {},
   "outputs": [],
   "source": [
    "from airo_camera_toolkit.image_transforms import Crop\n",
    "# from airo_camera_toolkit.image_transforms import *\n",
    "\n",
    "crop = Crop(image.shape, x=160, y=120, h=200, w=200)\n",
    "\n",
    "cropped_image = crop(image)\n",
    "\n",
    "plt.title(\"Cropped Image\")\n",
    "plt.imshow(cropped_image);"
   ]
  },
  {
   "attachments": {},
   "cell_type": "markdown",
   "metadata": {},
   "source": [
    "### Transforming Points\n",
    "\n",
    "The `ImageTransform` classes also provide functionality to transform points from the original image to the transformed image, and in reverse.\n",
    "This is useful e.g. when running a keypoint detector on a transformed image and wanting to map the detected keypoints back to the original image. "
   ]
  },
  {
   "cell_type": "code",
   "execution_count": null,
   "metadata": {},
   "outputs": [],
   "source": [
    "image1 = image.copy()\n",
    "\n",
    "point = (311, 150) # tip of the feather\n",
    "\n",
    "cv2.circle(image1, point, 9, (0, 255, 0), thickness=2)\n",
    "\n",
    "plt.title(\"Point in Original Image (green)\")\n",
    "plt.imshow(image1);"
   ]
  },
  {
   "cell_type": "code",
   "execution_count": null,
   "metadata": {},
   "outputs": [],
   "source": [
    "point_in_crop = crop.transform_point(point)\n",
    "point_in_crop"
   ]
  },
  {
   "cell_type": "code",
   "execution_count": null,
   "metadata": {},
   "outputs": [],
   "source": [
    "cv2.circle(cropped_image, point_in_crop, 9, (0, 0, 255), thickness=2)\n",
    "\n",
    "plt.title(\"Point from Original Transformed to Crop (blue)\")\n",
    "plt.imshow(cropped_image);"
   ]
  },
  {
   "cell_type": "code",
   "execution_count": null,
   "metadata": {},
   "outputs": [],
   "source": [
    "point1_in_crop = (18, 125) # tip of the horse's ear\n",
    "\n",
    "cv2.circle(cropped_image, point1_in_crop, 9, (255, 0, 0), thickness=2)\n",
    "\n",
    "plt.title(\"Point in Cropped Image\")\n",
    "plt.imshow(cropped_image);"
   ]
  },
  {
   "cell_type": "code",
   "execution_count": null,
   "metadata": {},
   "outputs": [],
   "source": [
    "point1_in_original = crop.reverse_transform_point(point1_in_crop)\n",
    "\n",
    "cv2.circle(image1, point1_in_original, 9, (255, 255, 0), thickness=2)\n",
    "plt.title(\"Point from Crop Transformed to Original (yellow)\")\n",
    "plt.imshow(image1);"
   ]
  },
  {
   "attachments": {},
   "cell_type": "markdown",
   "metadata": {},
   "source": [
    "## Resize"
   ]
  },
  {
   "cell_type": "code",
   "execution_count": null,
   "metadata": {},
   "outputs": [],
   "source": [
    "from airo_camera_toolkit.image_transforms import Resize\n",
    "\n",
    "height, width, _ = image.shape\n",
    "height_new, width_new = height // 4, width // 4\n",
    "\n",
    "resize = Resize(image.shape, h=height_new, w=width_new)\n",
    "\n",
    "resized_image = resize(image)\n",
    "print(resized_image.shape)\n",
    "\n",
    "plt.imshow(resized_image);"
   ]
  },
  {
   "cell_type": "code",
   "execution_count": null,
   "metadata": {},
   "outputs": [],
   "source": [
    "point_in_resized = resize.transform_point(point)\n",
    "point_in_resized"
   ]
  },
  {
   "cell_type": "code",
   "execution_count": null,
   "metadata": {},
   "outputs": [],
   "source": [
    "cv2.circle(resized_image, point_in_resized, 4, (0, 0, 255), thickness=1)\n",
    "plt.imshow(resized_image);"
   ]
  },
  {
   "attachments": {},
   "cell_type": "markdown",
   "metadata": {},
   "source": [
    ":information_source: By default, transformed points are rounded to the nearest integer pixel coordinate. To disable this and remove rounding error, set `round_transformed_points=False`."
   ]
  },
  {
   "cell_type": "code",
   "execution_count": null,
   "metadata": {},
   "outputs": [],
   "source": [
    "resize2 = Resize(image.shape, h=height_new, w=width_new, round_transformed_points=False)\n",
    "point_in_resized2 = resize2.transform_point(point)\n",
    "point_in_resized2"
   ]
  },
  {
   "cell_type": "code",
   "execution_count": null,
   "metadata": {},
   "outputs": [],
   "source": [
    "point_reverse_resized = resize.reverse_transform_point(point_in_resized)\n",
    "point, point_reverse_resized"
   ]
  },
  {
   "cell_type": "code",
   "execution_count": null,
   "metadata": {},
   "outputs": [],
   "source": [
    "point_reverse_resized2 = resize2.reverse_transform_point(point_in_resized2)\n",
    "point_reverse_resized2_int = tuple(map(int, point_reverse_resized2))\n",
    "point, point_reverse_resized2, point_reverse_resized2_int"
   ]
  },
  {
   "cell_type": "code",
   "execution_count": null,
   "metadata": {},
   "outputs": [],
   "source": [
    "image2 = image.copy()\n",
    "cv2.circle(image2, point_reverse_resized, 9, (255, 0, 0), thickness=2)\n",
    "cv2.circle(image2, point_reverse_resized2_int, 9, (0, 255, 0), thickness=2)\n",
    "plt.imshow(image2);"
   ]
  },
  {
   "attachments": {},
   "cell_type": "markdown",
   "metadata": {},
   "source": [
    "## 90-degree Rotations"
   ]
  },
  {
   "cell_type": "code",
   "execution_count": null,
   "metadata": {},
   "outputs": [],
   "source": [
    "from airo_camera_toolkit.image_transforms import Rotation90\n",
    "\n",
    "rotation90 = Rotation90(input_shape=image.shape)\n",
    "image_rotated = rotation90(image)\n",
    "plt.imshow(image_rotated);"
   ]
  },
  {
   "cell_type": "code",
   "execution_count": null,
   "metadata": {},
   "outputs": [],
   "source": [
    "point_in_rotated = rotation90.transform_point(point)\n",
    "\n",
    "cv2.circle(image_rotated, point_in_rotated, 9, (255, 0, 0), thickness=2)\n",
    "plt.imshow(image_rotated);"
   ]
  },
  {
   "cell_type": "code",
   "execution_count": null,
   "metadata": {},
   "outputs": [],
   "source": [
    "rotation180 = Rotation90(image.shape, 2)\n",
    "image_rotated180 = rotation180(image)\n",
    "point_in_rotated180 = rotation180.transform_point(point)\n",
    "cv2.circle(image_rotated180, point_in_rotated180, 9, (0, 255, 0), thickness=2)\n",
    "plt.imshow(image_rotated180);"
   ]
  },
  {
   "cell_type": "code",
   "execution_count": null,
   "metadata": {},
   "outputs": [],
   "source": [
    "rotation270 = Rotation90(image.shape, 3)\n",
    "image_rotated270 = rotation270(image)\n",
    "point_in_rotated270 = rotation270.transform_point(point)\n",
    "cv2.circle(image_rotated270, point_in_rotated270, 9, (0, 0, 255), thickness=2)\n",
    "plt.imshow(image_rotated270);"
   ]
  },
  {
   "cell_type": "code",
   "execution_count": null,
   "metadata": {},
   "outputs": [],
   "source": [
    "image3 = image.copy()\n",
    "\n",
    "point_in_rotated90_reverse = rotation90.reverse_transform_point(point_in_rotated)\n",
    "point_in_rotated180_reverse = rotation180.reverse_transform_point(point_in_rotated180)\n",
    "point_in_rotated270_reverse = rotation270.reverse_transform_point(point_in_rotated270)\n",
    "\n",
    "cv2.circle(image3, point_in_rotated90_reverse, 16, (255, 0, 0), thickness=2)\n",
    "cv2.circle(image3, point_in_rotated180_reverse, 12, (0, 255, 0), thickness=2)\n",
    "cv2.circle(image3, point_in_rotated270_reverse, 8, (0, 0, 255), thickness=2)\n",
    "\n",
    "plt.imshow(image3);\n"
   ]
  },
  {
   "attachments": {},
   "cell_type": "markdown",
   "metadata": {},
   "source": [
    "## Composing Transforms"
   ]
  },
  {
   "cell_type": "code",
   "execution_count": null,
   "metadata": {},
   "outputs": [],
   "source": [
    "crop = Crop(image.shape, x=160, y=120, h=200, w=200)\n",
    "resize = Resize(crop.shape, h=100, w=100, round_transformed_points=False)\n",
    "rotation_clockwise = Rotation90(resize.shape, -1)\n",
    "\n",
    "image_transformed = rotation_clockwise(resize(crop(image)))\n",
    "plt.imshow(image_transformed);"
   ]
  },
  {
   "cell_type": "code",
   "execution_count": null,
   "metadata": {},
   "outputs": [],
   "source": [
    "from airo_camera_toolkit.image_transforms import ComposedTransform\n",
    "\n",
    "transform = ComposedTransform([crop, resize, rotation_clockwise])\n",
    "image_transformed2 = transform(image)\n",
    "point_transformed2 = transform.transform_point(point)\n",
    "\n",
    "\n",
    "print(point)\n",
    "print(point_transformed2)\n",
    "\n",
    "point_transformed2_int = tuple(map(int, point_transformed2))\n",
    "\n",
    "cv2.circle(image_transformed2, point_transformed2_int, 5, (0, 255, 0), thickness=1)\n",
    "\n",
    "plt.imshow(image_transformed2);\n"
   ]
  },
  {
   "cell_type": "code",
   "execution_count": null,
   "metadata": {},
   "outputs": [],
   "source": [
    "image4 = image.copy()\n",
    "\n",
    "point_transformed2_reverse = transform.reverse_transform_point(point_transformed2)\n",
    "print(point_transformed2_reverse)\n",
    "\n",
    "point_transformed2_reverse_int = tuple(map(int, point_transformed2_reverse))\n",
    "\n",
    "cv2.circle(image4, point_transformed2_reverse_int, 9, (0, 255, 0), thickness=2)\n",
    "plt.imshow(image4);"
   ]
  },
  {
   "cell_type": "code",
   "execution_count": null,
   "metadata": {},
   "outputs": [],
   "source": []
  }
 ],
 "metadata": {
  "kernelspec": {
   "display_name": "airo-mono",
   "language": "python",
   "name": "python3"
  },
  "language_info": {
   "codemirror_mode": {
    "name": "ipython",
    "version": 3
   },
   "file_extension": ".py",
   "mimetype": "text/x-python",
   "name": "python",
   "nbconvert_exporter": "python",
   "pygments_lexer": "ipython3",
   "version": "3.9.13"
  },
  "orig_nbformat": 4
 },
 "nbformat": 4,
 "nbformat_minor": 2
}
