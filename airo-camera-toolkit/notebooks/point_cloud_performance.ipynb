{
 "cells": [
  {
   "cell_type": "markdown",
   "metadata": {},
   "source": [
    "# Point Cloud Performance\n",
    "\n",
    "> Download this data from [here](https://ugentbe-my.sharepoint.com/:f:/g/personal/victorlouis_degusseme_ugent_be/EkIZoyySsnZBg56hRq1BqdkBuGlvhAwPWT9HDuqaUB-psA?e=iSehj6) and save the folder in a folder called `data` relative to this notebook.\n",
    "\n",
    "Main takeaways:\n",
    "* \"Conversion\" is ~instant because array memory is shared.\n",
    "* Filtering time scales with the amount of `True` values in the mask.\n",
    "* Using `&` on mask is fast, so it's better to `&` lots of masks together than to filter sequentially.\n",
    "* Filtering with our dataclass/in numpy is faster than Open3D's `select_by_index` or `select_by_mask`.\n",
    "* Using `.nonzero()` on a boolean array before indexing is faster than using a boolean array directly."
   ]
  },
  {
   "cell_type": "code",
   "execution_count": 30,
   "metadata": {},
   "outputs": [
    {
     "name": "stdout",
     "output_type": "stream",
     "text": [
      "The autoreload extension is already loaded. To reload it, use:\n",
      "  %reload_ext autoreload\n"
     ]
    }
   ],
   "source": [
    "%load_ext autoreload\n",
    "%autoreload 2"
   ]
  },
  {
   "cell_type": "code",
   "execution_count": 31,
   "metadata": {},
   "outputs": [],
   "source": [
    "import os\n",
    "data_dir = os.path.join(\"data\", \"competition_sample_0000\")"
   ]
  },
  {
   "cell_type": "code",
   "execution_count": 32,
   "metadata": {},
   "outputs": [
    {
     "name": "stdout",
     "output_type": "stream",
     "text": [
      "calibration\t  confidence_map.tiff  image_left.png\tintrinsics.json\n",
      "camera_pose.json  depth_map.tiff       image_right.png\tpointcloud.ply\n"
     ]
    }
   ],
   "source": [
    "!ls $data_dir"
   ]
  },
  {
   "cell_type": "code",
   "execution_count": 33,
   "metadata": {},
   "outputs": [],
   "source": [
    "import cv2\n",
    "import numpy as np\n",
    "import open3d as o3d\n",
    "\n",
    "from airo_typing import NumpyDepthMapType\n",
    "from airo_dataset_tools.data_parsers.camera_intrinsics import CameraIntrinsics\n",
    "from airo_dataset_tools.data_parsers.pose import Pose\n",
    "from airo_camera_toolkit.point_clouds.conversions import open3d_to_point_cloud, point_cloud_to_open3d\n",
    "from airo_camera_toolkit.point_clouds.operations import filter_point_cloud, crop_point_cloud\n",
    "from airo_camera_toolkit.point_clouds.operations import generate_point_cloud_crop_mask\n"
   ]
  },
  {
   "cell_type": "code",
   "execution_count": 34,
   "metadata": {},
   "outputs": [],
   "source": [
    "intrinsics_path = os.path.join(data_dir, \"intrinsics.json\")\n",
    "image_left_path = os.path.join(data_dir, \"image_left.png\")\n",
    "image_right_path = os.path.join(data_dir, \"image_right.png\")\n",
    "depth_map_path = os.path.join(data_dir, \"depth_map.tiff\")\n",
    "confidence_map_path = os.path.join(data_dir, \"confidence_map.tiff\")\n",
    "point_cloud_path = os.path.join(data_dir, \"pointcloud.ply\")\n",
    "camera_pose_path = os.path.join(data_dir, \"camera_pose.json\")"
   ]
  },
  {
   "cell_type": "code",
   "execution_count": 35,
   "metadata": {},
   "outputs": [
    {
     "name": "stdout",
     "output_type": "stream",
     "text": [
      "Resolution: (2208, 1242)\n",
      "Intrinsics: \n",
      " [[1056.831    0.    1103.95 ]\n",
      " [   0.    1056.831  621.699]\n",
      " [   0.       0.       1.   ]]\n",
      "Extrinsics: \n",
      " [[ 1.    -0.001 -0.004  0.475]\n",
      " [ 0.003 -0.365  0.931 -1.318]\n",
      " [-0.002 -0.931 -0.365  0.9  ]\n",
      " [ 0.     0.     0.     1.   ]]\n"
     ]
    }
   ],
   "source": [
    "with open(intrinsics_path, \"r\") as f:\n",
    "    intrinsics_model = CameraIntrinsics.model_validate_json(f.read())\n",
    "    intrinsics = intrinsics_model.as_matrix()\n",
    "    resolution = intrinsics_model.image_resolution.as_tuple()\n",
    "\n",
    "with open(camera_pose_path, \"r\") as f:\n",
    "    camera_pose = Pose.model_validate_json(f.read()).as_homogeneous_matrix()\n",
    "\n",
    "with np.printoptions(precision=3, suppress=True):\n",
    "    print(\"Resolution:\", resolution)\n",
    "    print(\"Intrinsics: \\n\", intrinsics)\n",
    "    print(\"Extrinsics: \\n\", camera_pose)"
   ]
  },
  {
   "cell_type": "code",
   "execution_count": 36,
   "metadata": {},
   "outputs": [
    {
     "data": {
      "text/plain": [
       "PointCloud on CPU:0 [2742336 points (Float32)].\n",
       "Attributes: colors (dtype = UInt8, shape = {2742336, 3})."
      ]
     },
     "execution_count": 36,
     "metadata": {},
     "output_type": "execute_result"
    }
   ],
   "source": [
    "def binarize_confidence(image: NumpyDepthMapType, threshold=50.0):\n",
    "    confident = image <= threshold\n",
    "    return confident\n",
    "\n",
    "depth_map = cv2.imread(depth_map_path, cv2.IMREAD_ANYDEPTH)\n",
    "confidence_map = cv2.imread(confidence_map_path, cv2.IMREAD_ANYDEPTH)\n",
    "\n",
    "# Confidence mask\n",
    "threshold = 1.0  # a value of 1.0 means only the most confidence points will be kept\n",
    "confidence_binarized = binarize_confidence(confidence_map, threshold)\n",
    "confidence_mask = confidence_binarized.reshape(-1)\n",
    "\n",
    "# Bounding box\n",
    "bbox = (0.35, -0.3, 0.1), (0.7, 0.1, 0.95)\n",
    "bbox_o3d = o3d.t.geometry.AxisAlignedBoundingBox(*bbox)\n",
    "\n",
    "# Open3D point clouds\n",
    "pcd_in_camera = o3d.t.io.read_point_cloud(point_cloud_path)\n",
    "\n",
    "# This conversion to float32 can be removed once the data is saved as float32\n",
    "pcd_in_camera.point.positions = o3d.core.Tensor(pcd_in_camera.point.positions.numpy().astype(np.float32))\n",
    "\n",
    "pcd = pcd_in_camera.transform(camera_pose) # transform to world frame (= base frame of left robot)\n",
    "pcd_filtered = pcd.select_by_mask(confidence_mask)\n",
    "pcd_cropped = pcd_filtered.crop(bbox_o3d)\n",
    "\n",
    "# Airo-mono point clouds\n",
    "point_cloud = open3d_to_point_cloud(pcd)\n",
    "point_cloud_filtered = filter_point_cloud(point_cloud, confidence_mask)\n",
    "point_cloud_cropped = crop_point_cloud(point_cloud_filtered, bbox)\n",
    "\n",
    "pcd"
   ]
  },
  {
   "cell_type": "code",
   "execution_count": 37,
   "metadata": {},
   "outputs": [
    {
     "name": "stdout",
     "output_type": "stream",
     "text": [
      "Confidence mask: 85.61% is True\n"
     ]
    }
   ],
   "source": [
    "print(f\"Confidence mask: {100.0 * confidence_mask.mean():.2f}% is True\")"
   ]
  },
  {
   "cell_type": "markdown",
   "metadata": {},
   "source": [
    "### Performance comparison\n",
    "\n",
    "#### Conversion"
   ]
  },
  {
   "cell_type": "code",
   "execution_count": 38,
   "metadata": {},
   "outputs": [
    {
     "name": "stdout",
     "output_type": "stream",
     "text": [
      "13.7 µs ± 320 ns per loop (mean ± std. dev. of 7 runs, 100,000 loops each)\n"
     ]
    }
   ],
   "source": [
    "%%timeit\n",
    "point_cloud_to_open3d(point_cloud)"
   ]
  },
  {
   "cell_type": "code",
   "execution_count": 39,
   "metadata": {},
   "outputs": [
    {
     "name": "stdout",
     "output_type": "stream",
     "text": [
      "17.3 µs ± 54.6 ns per loop (mean ± std. dev. of 7 runs, 100,000 loops each)\n"
     ]
    }
   ],
   "source": [
    "%%timeit\n",
    "open3d_to_point_cloud(pcd)"
   ]
  },
  {
   "cell_type": "markdown",
   "metadata": {},
   "source": [
    "#### Filtering"
   ]
  },
  {
   "cell_type": "code",
   "execution_count": 40,
   "metadata": {},
   "outputs": [
    {
     "name": "stdout",
     "output_type": "stream",
     "text": [
      "59.3 ms ± 160 µs per loop (mean ± std. dev. of 7 runs, 10 loops each)\n"
     ]
    }
   ],
   "source": [
    "%%timeit\n",
    "filter_point_cloud(point_cloud, confidence_mask.nonzero()) # adding nonzero() is faster"
   ]
  },
  {
   "cell_type": "code",
   "execution_count": 41,
   "metadata": {},
   "outputs": [
    {
     "name": "stdout",
     "output_type": "stream",
     "text": [
      "67.5 ms ± 204 µs per loop (mean ± std. dev. of 7 runs, 10 loops each)\n"
     ]
    }
   ],
   "source": [
    "%%timeit\n",
    "filter_point_cloud(point_cloud, confidence_mask)"
   ]
  },
  {
   "cell_type": "code",
   "execution_count": 42,
   "metadata": {},
   "outputs": [
    {
     "data": {
      "text/plain": [
       "True"
      ]
     },
     "execution_count": 42,
     "metadata": {},
     "output_type": "execute_result"
    }
   ],
   "source": [
    "np.all(point_cloud.points[confidence_mask] == point_cloud.points[confidence_mask.nonzero()])"
   ]
  },
  {
   "cell_type": "code",
   "execution_count": 43,
   "metadata": {},
   "outputs": [],
   "source": [
    "confidence_mask_95_false = confidence_mask.copy()\n",
    "confidence_mask_95_false[:int(0.95 * len(confidence_mask))] = False"
   ]
  },
  {
   "cell_type": "code",
   "execution_count": 44,
   "metadata": {},
   "outputs": [
    {
     "name": "stdout",
     "output_type": "stream",
     "text": [
      "2.95 ms ± 7.01 µs per loop (mean ± std. dev. of 7 runs, 100 loops each)\n"
     ]
    }
   ],
   "source": [
    "%%timeit\n",
    "filter_point_cloud(point_cloud, confidence_mask_95_false.nonzero())"
   ]
  },
  {
   "cell_type": "code",
   "execution_count": 45,
   "metadata": {},
   "outputs": [
    {
     "name": "stdout",
     "output_type": "stream",
     "text": [
      "140 ms ± 608 µs per loop (mean ± std. dev. of 7 runs, 10 loops each)\n"
     ]
    }
   ],
   "source": [
    "%%timeit\n",
    "pcd.select_by_index(np.where(confidence_mask)[0])"
   ]
  },
  {
   "cell_type": "code",
   "execution_count": 46,
   "metadata": {},
   "outputs": [
    {
     "name": "stdout",
     "output_type": "stream",
     "text": [
      "238 ms ± 3.37 ms per loop (mean ± std. dev. of 7 runs, 1 loop each)\n"
     ]
    }
   ],
   "source": [
    "%%timeit\n",
    "pcd.select_by_mask(confidence_mask)"
   ]
  },
  {
   "cell_type": "code",
   "execution_count": 47,
   "metadata": {},
   "outputs": [],
   "source": [
    "pcd_legacy = pcd.to_legacy()"
   ]
  },
  {
   "cell_type": "code",
   "execution_count": 48,
   "metadata": {},
   "outputs": [
    {
     "name": "stdout",
     "output_type": "stream",
     "text": [
      "388 ms ± 3.16 ms per loop (mean ± std. dev. of 7 runs, 1 loop each)\n"
     ]
    }
   ],
   "source": [
    "%%timeit\n",
    "pcd_legacy.select_by_index(np.where(confidence_mask)[0])"
   ]
  },
  {
   "cell_type": "markdown",
   "metadata": {},
   "source": [
    "#### Cropping"
   ]
  },
  {
   "cell_type": "code",
   "execution_count": 49,
   "metadata": {},
   "outputs": [
    {
     "name": "stdout",
     "output_type": "stream",
     "text": [
      "16.9 ms ± 135 µs per loop (mean ± std. dev. of 7 runs, 100 loops each)\n"
     ]
    }
   ],
   "source": [
    "%%timeit\n",
    "crop_point_cloud(point_cloud_filtered, bbox)"
   ]
  },
  {
   "cell_type": "code",
   "execution_count": 50,
   "metadata": {},
   "outputs": [
    {
     "name": "stdout",
     "output_type": "stream",
     "text": [
      "31.1 ms ± 903 µs per loop (mean ± std. dev. of 7 runs, 10 loops each)\n"
     ]
    }
   ],
   "source": [
    "%%timeit\n",
    "pcd_filtered.crop(bbox_o3d)"
   ]
  },
  {
   "cell_type": "markdown",
   "metadata": {},
   "source": [
    "#### Downsampling"
   ]
  },
  {
   "cell_type": "code",
   "execution_count": 51,
   "metadata": {},
   "outputs": [
    {
     "name": "stdout",
     "output_type": "stream",
     "text": [
      "3.04 ms ± 37.9 µs per loop (mean ± std. dev. of 7 runs, 100 loops each)\n"
     ]
    }
   ],
   "source": [
    "%%timeit\n",
    "pcd_cropped.voxel_down_sample(voxel_size=0.01)"
   ]
  },
  {
   "cell_type": "markdown",
   "metadata": {},
   "source": [
    "#### Removing low confidence points and cropping as fast as possible"
   ]
  },
  {
   "cell_type": "code",
   "execution_count": 52,
   "metadata": {},
   "outputs": [],
   "source": [
    "crop_mask = generate_point_cloud_crop_mask(point_cloud, bbox)"
   ]
  },
  {
   "cell_type": "code",
   "execution_count": 53,
   "metadata": {},
   "outputs": [
    {
     "name": "stdout",
     "output_type": "stream",
     "text": [
      "139 µs ± 3.25 µs per loop (mean ± std. dev. of 7 runs, 10,000 loops each)\n"
     ]
    }
   ],
   "source": [
    "%%timeit\n",
    "crop_mask & confidence_mask"
   ]
  },
  {
   "cell_type": "code",
   "execution_count": 54,
   "metadata": {},
   "outputs": [
    {
     "name": "stdout",
     "output_type": "stream",
     "text": [
      "21.1 ms ± 252 µs per loop (mean ± std. dev. of 7 runs, 10 loops each)\n"
     ]
    }
   ],
   "source": [
    "%%timeit\n",
    "crop_mask = generate_point_cloud_crop_mask(point_cloud, bbox)\n",
    "mask = crop_mask & confidence_mask\n",
    "filter_point_cloud(point_cloud, mask.nonzero())"
   ]
  },
  {
   "cell_type": "code",
   "execution_count": 55,
   "metadata": {},
   "outputs": [
    {
     "name": "stdout",
     "output_type": "stream",
     "text": [
      "74.9 ms ± 231 µs per loop (mean ± std. dev. of 7 runs, 10 loops each)\n"
     ]
    }
   ],
   "source": [
    "%%timeit\n",
    "point_cloud_filtered = filter_point_cloud(point_cloud, confidence_mask.nonzero())\n",
    "point_cloud_cropped = crop_point_cloud(point_cloud_filtered, bbox)"
   ]
  },
  {
   "cell_type": "code",
   "execution_count": 56,
   "metadata": {},
   "outputs": [
    {
     "name": "stdout",
     "output_type": "stream",
     "text": [
      "25 ms ± 102 µs per loop (mean ± std. dev. of 7 runs, 10 loops each)\n"
     ]
    }
   ],
   "source": [
    "%%timeit\n",
    "crop_mask = generate_point_cloud_crop_mask(point_cloud, bbox)\n",
    "mask = crop_mask & confidence_mask\n",
    "pcd.select_by_index(mask.nonzero())"
   ]
  },
  {
   "cell_type": "code",
   "execution_count": 57,
   "metadata": {},
   "outputs": [],
   "source": [
    "pcd2 = o3d.t.geometry.PointCloud(pcd)\n",
    "pcd2.point.confidence = o3d.core.Tensor(confidence_mask)"
   ]
  },
  {
   "cell_type": "code",
   "execution_count": 58,
   "metadata": {},
   "outputs": [
    {
     "name": "stdout",
     "output_type": "stream",
     "text": [
      "49.8 ms ± 160 µs per loop (mean ± std. dev. of 7 runs, 10 loops each)\n"
     ]
    }
   ],
   "source": [
    "%%timeit\n",
    "pcd2_cropped = pcd2.crop(bbox_o3d)\n",
    "pcd2_cropped.select_by_index(pcd2_cropped.point.confidence.numpy().nonzero())"
   ]
  },
  {
   "cell_type": "code",
   "execution_count": null,
   "metadata": {},
   "outputs": [],
   "source": []
  }
 ],
 "metadata": {
  "execution": {
   "allow_errors": true,
   "timeout": 300
  },
  "kernelspec": {
   "display_name": "airo-mono",
   "language": "python",
   "name": "python3"
  },
  "language_info": {
   "codemirror_mode": {
    "name": "ipython",
    "version": 3
   },
   "file_extension": ".py",
   "mimetype": "text/x-python",
   "name": "python",
   "nbconvert_exporter": "python",
   "pygments_lexer": "ipython3",
   "version": "3.10.13"
  }
 },
 "nbformat": 4,
 "nbformat_minor": 2
}
