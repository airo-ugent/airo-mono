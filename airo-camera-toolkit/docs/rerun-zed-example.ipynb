{
 "cells": [
  {
   "attachments": {},
   "cell_type": "markdown",
   "metadata": {},
   "source": [
    "# Rerun RGBD camera example\n",
    "This example shows how to use [rerun](https://www.rerun.io/) for logging images, image annotations, pointclouds, transforms between elements in the world, time-series in a way that you might want to do for a robotic manipulation setup. Make sure you have a **ZED2I camera connected**.\n",
    "\n",
    "\n",
    "Rerun has more features such as logging meshes, logging 3D bboxes, URDFs (in process). Check the docs to learn more. \n",
    "Also note that this tool is still very 'young', it became public only mid february 2023. There are many issues that need to be solved. E.g. the pypi wheel is broken atm and you cannot save the rerun file from the UI. The team is very responsive on github so shoot if you find issues etc."
   ]
  },
  {
   "cell_type": "code",
   "execution_count": null,
   "metadata": {
    "execution": {
     "iopub.execute_input": "2023-07-13T13:02:19.850842Z",
     "iopub.status.busy": "2023-07-13T13:02:19.850593Z",
     "iopub.status.idle": "2023-07-13T13:02:20.143617Z",
     "shell.execute_reply": "2023-07-13T13:02:20.142401Z"
    }
   },
   "outputs": [],
   "source": [
    "from airo_camera_toolkit.cameras.zed2i import Zed2i\n",
    "import rerun\n",
    "#autoreload\n",
    "%load_ext autoreload\n",
    "%autoreload 2"
   ]
  },
  {
   "cell_type": "code",
   "execution_count": null,
   "metadata": {},
   "outputs": [],
   "source": [
    "# start rerun. If the UI is already running, it will connect to it. Otherwise it will start a new UI and connect to it.\n",
    "# you can also start rerun using `python -m rerun`.\n",
    "rerun.init(\"test\",spawn=True)"
   ]
  },
  {
   "cell_type": "code",
   "execution_count": null,
   "metadata": {},
   "outputs": [],
   "source": [
    "zed = Zed2i(depth_mode=Zed2i.NEURAL_DEPTH_MODE, resolution=Zed2i.RESOLUTION_2K)"
   ]
  },
  {
   "cell_type": "code",
   "execution_count": null,
   "metadata": {},
   "outputs": [],
   "source": [
    "pointcloud = zed.get_colored_point_cloud()\n",
    "rgb = zed.get_rgb_image()\n",
    "depth = zed.get_depth_image()"
   ]
  },
  {
   "cell_type": "code",
   "execution_count": null,
   "metadata": {},
   "outputs": [],
   "source": [
    "zed.depth_enabled = False"
   ]
  },
  {
   "cell_type": "code",
   "execution_count": null,
   "metadata": {},
   "outputs": [],
   "source": [
    "# log the colored pointcloud to the UI\n",
    "rerun.log_points(\"world/camera1/pointcloud\",positions=pointcloud[:,:3],colors=pointcloud[:,3:6])\n"
   ]
  },
  {
   "cell_type": "code",
   "execution_count": null,
   "metadata": {},
   "outputs": [],
   "source": [
    "pointcloud[3156][3:6]"
   ]
  },
  {
   "cell_type": "code",
   "execution_count": null,
   "metadata": {},
   "outputs": [],
   "source": [
    "# log the non-colored pointcloud to the UI in the same world/camera1 space\n",
    "rerun.log_points(\"world/camera1/non_color_pointcloud\",positions=pointcloud[:,:3],colors=[0.5,0.5,0.5])"
   ]
  },
  {
   "cell_type": "code",
   "execution_count": null,
   "metadata": {},
   "outputs": [],
   "source": [
    "# log the rgb and depth images to the UI in a new image/camera1 space, this will automatically become a 2D image viewer.\n",
    "rerun.log_image(\"image/camera1/rgb\",rgb)\n",
    "rerun.log_image(\"image/camera1/depth\",depth)"
   ]
  },
  {
   "cell_type": "code",
   "execution_count": null,
   "metadata": {},
   "outputs": [],
   "source": [
    "# log a dummy 2D bbox \n",
    "rerun.log_rect(\"image/camera1/rect\",[20,100,300,500])"
   ]
  },
  {
   "cell_type": "code",
   "execution_count": null,
   "metadata": {},
   "outputs": [],
   "source": [
    "# log some dummy keypoints and attach labels\n",
    "rerun.log_points(\"image/camera1/keypoints\",[[600,500],[400,500]],keypoint_ids=[0,1],radii=20, labels=[\"keypoint1\",\"keypoint2\"])"
   ]
  },
  {
   "cell_type": "code",
   "execution_count": null,
   "metadata": {},
   "outputs": [],
   "source": [
    "# log dummy camera extrinsics from the world space. \n",
    "# This specifies the pose of camera in world.\n",
    "translation = [0,0.5,0.7] \n",
    "rotation = [-0.707,0,0,0.707] #scalar-last! \n",
    "rerun.log_rigid3(\"world/camera1\", parent_from_child=(translation, rotation))"
   ]
  },
  {
   "cell_type": "code",
   "execution_count": null,
   "metadata": {},
   "outputs": [],
   "source": [
    "# log the actual camera intrinsics, to create a pinhole camera model in the UI.\n",
    "width = 1920\n",
    "height = 1080\n",
    "intrinsics = zed.intrinsics_matrix\n",
    "rerun.log_pinhole(\"world/camera1/rgb\",\n",
    "                  child_from_parent = intrinsics,\n",
    "                  width = width,\n",
    "                  height = height)\n",
    "rerun.log_image(\"world/camera1/rgb\",rgb)\n"
   ]
  },
  {
   "cell_type": "code",
   "execution_count": null,
   "metadata": {},
   "outputs": [],
   "source": [
    "# set up the 'view' of the 3D world space. This is for convenience so that rerun can sensible starting orientations for the spaces. \n",
    "rerun.log_view_coordinates(\"world\", up=\"+Z\", right_handed=True, timeless=True)\n",
    "rerun.log_view_coordinates(\"world/camera1\", xyz=\"RDF\")\n"
   ]
  },
  {
   "cell_type": "code",
   "execution_count": null,
   "metadata": {},
   "outputs": [],
   "source": [
    "# log some more data\n",
    "for _ in range(5):\n",
    "    pointcloud = zed.get_colored_point_cloud()\n",
    "    rerun.log_points(\"world/camera1/pointcloud\",positions=pointcloud[:,:3],colors=pointcloud[:,3:6])"
   ]
  },
  {
   "cell_type": "code",
   "execution_count": null,
   "metadata": {},
   "outputs": [],
   "source": [
    "# log time-series (e.g. F/T sensor)\n",
    "for i in range(100):\n",
    "    rerun.log_scalar(\"world/robot/force\",i)\n"
   ]
  },
  {
   "cell_type": "code",
   "execution_count": null,
   "metadata": {},
   "outputs": [],
   "source": [
    "# close the camera\n",
    "zed.camera.close()"
   ]
  },
  {
   "cell_type": "code",
   "execution_count": null,
   "metadata": {},
   "outputs": [],
   "source": []
  }
 ],
 "metadata": {
  "execution": {
   "allow_errors": true
  },
  "kernelspec": {
   "display_name": "airo-mono",
   "language": "python",
   "name": "python3"
  },
  "language_info": {
   "codemirror_mode": {
    "name": "ipython",
    "version": 3
   },
   "file_extension": ".py",
   "mimetype": "text/x-python",
   "name": "python",
   "nbconvert_exporter": "python",
   "pygments_lexer": "ipython3",
   "version": "3.9.16"
  },
  "vscode": {
   "interpreter": {
    "hash": "61c61de08031e8c1b5d1a9d2c1c853908e3c2df123d111707e8338c45268ee37"
   }
  }
 },
 "nbformat": 4,
 "nbformat_minor": 2
}
